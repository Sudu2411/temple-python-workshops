{
 "cells": [
  {
   "cell_type": "markdown",
   "metadata": {},
   "source": [
    "## 2) Build Amortization Schedule"
   ]
  },
  {
   "cell_type": "code",
   "execution_count": null,
   "metadata": {},
   "outputs": [],
   "source": [
    "import pandas as pd"
   ]
  },
  {
   "cell_type": "markdown",
   "metadata": {},
   "source": [
    "#### Loan Payment Calculator\n",
    "Recall our loan payment calculator function from first project"
   ]
  },
  {
   "cell_type": "code",
   "execution_count": null,
   "metadata": {},
   "outputs": [],
   "source": [
    "def calculate_loan_payment(loan_balance, annual_rate, term, frequency = 'monthly'):\n",
    "    freq = {'monthly': 12., 'quarterly': 4., 'semi-annual': 2., 'annual': 1.}\n",
    "    freq_value = freq[frequency]\n",
    "    \n",
    "    period = term * freq_value\n",
    "    effective_rate = annual_rate / freq_value\n",
    "    vn = (1. + effective_rate)**-period\n",
    "    payment = loan_balance * effective_rate / (1. - vn)\n",
    "    return round(payment, 2) "
   ]
  },
  {
   "cell_type": "code",
   "execution_count": null,
   "metadata": {},
   "outputs": [],
   "source": [
    "calculate_loan_payment(300000, .04, 30)"
   ]
  },
  {
   "cell_type": "markdown",
   "metadata": {},
   "source": [
    "#### Amortization Schedule\n",
    "Build a function that will output the amortization schedule for a given loan"
   ]
  },
  {
   "cell_type": "code",
   "execution_count": null,
   "metadata": {},
   "outputs": [],
   "source": [
    "def amortization_schedule(loan_balance, annual_rate, term):\n",
    "    ###WRITE CODE HERE\n",
    "    \n",
    "    \n",
    "    return schedule"
   ]
  },
  {
   "cell_type": "code",
   "execution_count": null,
   "metadata": {},
   "outputs": [],
   "source": [
    "amortization_schedule(300000, .04, 30)"
   ]
  },
  {
   "cell_type": "code",
   "execution_count": null,
   "metadata": {},
   "outputs": [],
   "source": []
  }
 ],
 "metadata": {
  "kernelspec": {
   "display_name": "Python 3",
   "language": "python",
   "name": "python3"
  },
  "language_info": {
   "codemirror_mode": {
    "name": "ipython",
    "version": 3
   },
   "file_extension": ".py",
   "mimetype": "text/x-python",
   "name": "python",
   "nbconvert_exporter": "python",
   "pygments_lexer": "ipython3",
   "version": "3.7.3"
  }
 },
 "nbformat": 4,
 "nbformat_minor": 2
}
