{
 "cells": [
  {
   "cell_type": "markdown",
   "metadata": {},
   "source": [
    "## 1. Build a Loan Payment Calculator"
   ]
  },
  {
   "cell_type": "markdown",
   "metadata": {},
   "source": [
    "Write a function that calculates the payment amount for an amortizing loan"
   ]
  },
  {
   "cell_type": "code",
   "execution_count": null,
   "metadata": {},
   "outputs": [],
   "source": [
    "def calculate_loan_payment(loan_balance, annual_rate, term):\n",
    "\n",
    "    \n",
    "    \n",
    "\n",
    "calculate_loan_payment(300000, .04, 30)"
   ]
  },
  {
   "cell_type": "markdown",
   "metadata": {},
   "source": [
    "Modify the function to allow for various payment frequency options"
   ]
  },
  {
   "cell_type": "code",
   "execution_count": null,
   "metadata": {},
   "outputs": [],
   "source": [
    "def calculate_loan_payment(loan_balance, annual_rate, term, frequency = 'monthly'):\n",
    "\n",
    "    \n",
    "    \n",
    "\n",
    "calculate_loan_payment(300000, .04, 30, frequency = 'semi-annual')"
   ]
  },
  {
   "cell_type": "markdown",
   "metadata": {},
   "source": [
    "Modify the function that outputs the payment amount for a list of rate options"
   ]
  },
  {
   "cell_type": "code",
   "execution_count": null,
   "metadata": {},
   "outputs": [],
   "source": [
    "def calculate_loan_payment(loan_balance, annual_rate, term, frequency = 'monthly'):\n",
    "\n",
    "    \n",
    "    \n",
    "    \n",
    "\n",
    "# This is a much better use of recursion\n",
    "calculate_loan_payment(300000, [.03, .04, .05], 30) "
   ]
  },
  {
   "cell_type": "markdown",
   "metadata": {},
   "source": [
    "Modify the function to allow for a list of rate / term combonations"
   ]
  },
  {
   "cell_type": "code",
   "execution_count": null,
   "metadata": {},
   "outputs": [],
   "source": [
    "# Questions to consider before coding:\n",
    "# how would you design this?\n",
    "# what should inputs to this function look like?\n",
    "# what should outputs of this function look like?\n",
    "# how to do this efficiently\n",
    "# am I using recursion appropriately here?"
   ]
  },
  {
   "cell_type": "code",
   "execution_count": null,
   "metadata": {},
   "outputs": [],
   "source": []
  }
 ],
 "metadata": {
  "kernelspec": {
   "display_name": "Python 3",
   "language": "python",
   "name": "python3"
  },
  "language_info": {
   "codemirror_mode": {
    "name": "ipython",
    "version": 3
   },
   "file_extension": ".py",
   "mimetype": "text/x-python",
   "name": "python",
   "nbconvert_exporter": "python",
   "pygments_lexer": "ipython3",
   "version": "3.7.3"
  }
 },
 "nbformat": 4,
 "nbformat_minor": 2
}
