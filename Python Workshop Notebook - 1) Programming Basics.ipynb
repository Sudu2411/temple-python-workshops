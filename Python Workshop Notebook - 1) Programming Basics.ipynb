{
 "cells": [
  {
   "cell_type": "markdown",
   "metadata": {},
   "source": [
    "## 1. Python Programming Basics"
   ]
  },
  {
   "cell_type": "markdown",
   "metadata": {},
   "source": [
    "#### Python Version\n",
    "Before we start, let's check our python version"
   ]
  },
  {
   "cell_type": "code",
   "execution_count": null,
   "metadata": {},
   "outputs": [],
   "source": [
    "from platform import python_version\n",
    "python_version()"
   ]
  },
  {
   "cell_type": "markdown",
   "metadata": {},
   "source": [
    "#### Jupyter Notebook\n",
    "Basic introduction to Notebook GUI and functionality. Cells, run, stop, kernels, move-up/down, markdown, etc."
   ]
  },
  {
   "cell_type": "markdown",
   "metadata": {},
   "source": [
    "#### Data Types\n",
    "Datatypes are the kinds of data python can manipulate"
   ]
  },
  {
   "cell_type": "code",
   "execution_count": null,
   "metadata": {},
   "outputs": [],
   "source": [
    "###Integer\n",
    "2"
   ]
  },
  {
   "cell_type": "code",
   "execution_count": null,
   "metadata": {},
   "outputs": [],
   "source": [
    "###Float\n",
    "2.0"
   ]
  },
  {
   "cell_type": "code",
   "execution_count": null,
   "metadata": {},
   "outputs": [],
   "source": [
    "###Boolean\n",
    "True"
   ]
  },
  {
   "cell_type": "code",
   "execution_count": null,
   "metadata": {},
   "outputs": [],
   "source": [
    "###Character\n",
    "'a'"
   ]
  },
  {
   "cell_type": "code",
   "execution_count": null,
   "metadata": {},
   "outputs": [],
   "source": [
    "###String (of characters)\n",
    "'Hello World!'"
   ]
  },
  {
   "cell_type": "code",
   "execution_count": null,
   "metadata": {},
   "outputs": [],
   "source": [
    "#This is a comment!\n",
    "###This is also a comment!\n",
    "#   Anything after the hash is a comment!"
   ]
  },
  {
   "cell_type": "markdown",
   "metadata": {},
   "source": [
    "#### Operations\n",
    "Operations are the different ways data can interact"
   ]
  },
  {
   "cell_type": "code",
   "execution_count": null,
   "metadata": {},
   "outputs": [],
   "source": [
    "###Arithmetic: +, -, *, /, **, %, //\n",
    "2 + 2"
   ]
  },
  {
   "cell_type": "code",
   "execution_count": null,
   "metadata": {},
   "outputs": [],
   "source": [
    "###Comparison: ==, !=, <, >, <=, >=\n",
    "2 > 1"
   ]
  },
  {
   "cell_type": "code",
   "execution_count": null,
   "metadata": {},
   "outputs": [],
   "source": [
    "###Logical: and, or, not, &, |, ~\n",
    "(2 > 1) and (1 > 3)"
   ]
  },
  {
   "cell_type": "code",
   "execution_count": null,
   "metadata": {},
   "outputs": [],
   "source": [
    "###Python operations depend on context\n",
    "print(2 + 2)\n",
    "print('Hello' + 'World')"
   ]
  },
  {
   "cell_type": "markdown",
   "metadata": {},
   "source": [
    "#### Data Containers\n",
    "Containers are how data is stored"
   ]
  },
  {
   "cell_type": "code",
   "execution_count": null,
   "metadata": {},
   "outputs": [],
   "source": [
    "###Lists\n",
    "list1 = [1, 2, 3]\n",
    "list2 = ['a', 'b', 'c']\n",
    "list3 = [True, False, True]\n",
    "list4 = [1, '1', True]\n",
    "\n",
    "print(list1[0])\n",
    "print()\n",
    "print(list1 + list2)\n",
    "print()\n",
    "\n",
    "list1.extend(list2)\n",
    "print(list1)\n",
    "print()\n",
    "list1.append(list2)\n",
    "print(list1)"
   ]
  },
  {
   "cell_type": "markdown",
   "metadata": {},
   "source": [
    "Why would I use lists?"
   ]
  },
  {
   "cell_type": "code",
   "execution_count": null,
   "metadata": {},
   "outputs": [],
   "source": [
    "string1 = 'Hello World!'\n",
    "string1[2]\n",
    "string1[5]"
   ]
  },
  {
   "cell_type": "code",
   "execution_count": null,
   "metadata": {},
   "outputs": [],
   "source": [
    "###Tuples\n",
    "tuple1 = (1, 2, 3)\n",
    "tuple2 = ('a', 'b', 'c')\n",
    "tuple3 = (True, False, True)\n",
    "tuple4 = (1, '1', True)\n",
    "\n",
    "tuple4[2]"
   ]
  },
  {
   "cell_type": "markdown",
   "metadata": {},
   "source": [
    "Whats the difference between tuples and lists? Below will give error. Why?"
   ]
  },
  {
   "cell_type": "code",
   "execution_count": null,
   "metadata": {},
   "outputs": [],
   "source": [
    "tuple1[2] = 1 \n",
    "\n",
    "tuple1.extend(tuple2)\n",
    "\n",
    "tuple1.append(tuple2)"
   ]
  },
  {
   "cell_type": "markdown",
   "metadata": {},
   "source": [
    "Why would I ever choose to use tuple?"
   ]
  },
  {
   "cell_type": "code",
   "execution_count": null,
   "metadata": {},
   "outputs": [],
   "source": [
    "###Dictionaries\n",
    "dict1 = {'A': 1, 'B': 2, 'C': 3}\n",
    "dict2 = {'D': 4, 'E': 5, 'F': 6}\n",
    "\n",
    "print(dict1['A'])\n",
    "print()\n",
    "print(dict1.keys())\n",
    "print()\n",
    "print(dict1.values())\n",
    "print()\n",
    "print(dict1.items())\n",
    "print()\n",
    "\n",
    "dict1.update(dict2)\n",
    "print(dict1)"
   ]
  },
  {
   "cell_type": "markdown",
   "metadata": {},
   "source": [
    "Why would I ever choose to use dictionaries?"
   ]
  },
  {
   "cell_type": "markdown",
   "metadata": {},
   "source": [
    "#### Conditional Statements"
   ]
  },
  {
   "cell_type": "code",
   "execution_count": null,
   "metadata": {},
   "outputs": [],
   "source": [
    "A = True\n",
    "B = True\n",
    "C = True\n",
    "\n",
    "if A:\n",
    "    print('A')\n",
    "elif B:\n",
    "    print('B')\n",
    "elif C:\n",
    "    print('C')\n",
    "else:\n",
    "    print('D')"
   ]
  },
  {
   "cell_type": "markdown",
   "metadata": {},
   "source": [
    "#### Looping"
   ]
  },
  {
   "cell_type": "code",
   "execution_count": null,
   "metadata": {},
   "outputs": [],
   "source": [
    "###Ranges come in handy when looking to loop incrementally\n",
    "range(10) #0, 1, 2, 3, 4, 5, 6, 7, 8, 9\n",
    "range(20, 40, 2) #20, 22, 24, 26, 28, 30, 32, 34, 36, 38"
   ]
  },
  {
   "cell_type": "markdown",
   "metadata": {},
   "source": [
    "Print the intergers between 0 and 10"
   ]
  },
  {
   "cell_type": "code",
   "execution_count": null,
   "metadata": {},
   "outputs": [],
   "source": [
    "###For loop\n",
    "for i in range(10):\n",
    "    print(i)"
   ]
  },
  {
   "cell_type": "code",
   "execution_count": null,
   "metadata": {},
   "outputs": [],
   "source": [
    "###While Loop\n",
    "i = 0\n",
    "while i < 10:\n",
    "    print(i)\n",
    "    i += 1 \n",
    "\n",
    "#Be careful of infinite loops"
   ]
  },
  {
   "cell_type": "markdown",
   "metadata": {},
   "source": [
    "#### Iterables\n",
    "Things that can be iterated - ranges, lists, tuples, dictionaries"
   ]
  },
  {
   "cell_type": "code",
   "execution_count": null,
   "metadata": {},
   "outputs": [],
   "source": [
    "# Iterables allows looping to be almost trivially easy in python\n",
    "lst = ['a', 'b', 'c']\n",
    "for element in lst:\n",
    "    print(element)"
   ]
  },
  {
   "cell_type": "markdown",
   "metadata": {},
   "source": [
    "#### Simple Looping Example"
   ]
  },
  {
   "cell_type": "markdown",
   "metadata": {},
   "source": [
    "Create a list of all the positive square numbers under 100"
   ]
  },
  {
   "cell_type": "code",
   "execution_count": null,
   "metadata": {},
   "outputs": [],
   "source": [
    "lst = []\n",
    "\n",
    "\n",
    "\n"
   ]
  },
  {
   "cell_type": "markdown",
   "metadata": {},
   "source": [
    "Create a list of all the positive square numbers under 100 that are divisible by 3"
   ]
  },
  {
   "cell_type": "code",
   "execution_count": null,
   "metadata": {},
   "outputs": [],
   "source": [
    "lst = []\n",
    "\n",
    "\n",
    "\n"
   ]
  },
  {
   "cell_type": "markdown",
   "metadata": {},
   "source": [
    "Introducing list comprehensions - faster and more compact code "
   ]
  },
  {
   "cell_type": "code",
   "execution_count": null,
   "metadata": {},
   "outputs": [],
   "source": [
    "lst = []\n",
    "\n",
    "\n",
    "lst = []\n",
    "\n",
    "\n",
    "lst = {}\n",
    "\n",
    "\n"
   ]
  },
  {
   "cell_type": "markdown",
   "metadata": {},
   "source": [
    "There are many tools in python helpful when looping - e.g. enumerate, zip, itertools and more in itertools"
   ]
  },
  {
   "cell_type": "code",
   "execution_count": null,
   "metadata": {},
   "outputs": [],
   "source": [
    "# enumerate - when we want to keep track of both the index and the element\n",
    "race_results = ['Mary', 'Tom', 'Sally']\n",
    "for i, name in enumerate(race_results):\n",
    "    print(f'{name} finished placed {i + 1} in the race!')\n",
    "    \n",
    "# zip allows us to iterate multiple iterables at once\n",
    "medals = ['Gold', 'Silver', 'Bronze']\n",
    "for medal, name in zip(medals, race_results):\n",
    "    print(f'{name} got a {medal} medal!')\n",
    "    \n",
    "# Many other useful functions in itertools to help you loop more easily and efficiently - go explore!"
   ]
  },
  {
   "cell_type": "markdown",
   "metadata": {},
   "source": [
    "#### Functions"
   ]
  },
  {
   "cell_type": "markdown",
   "metadata": {},
   "source": [
    "Code a function for the quadratic formula"
   ]
  },
  {
   "cell_type": "code",
   "execution_count": null,
   "metadata": {},
   "outputs": [],
   "source": [
    "import numpy as np\n",
    "def quadratic_formula(a, b, c):\n",
    "\n",
    "    "
   ]
  },
  {
   "cell_type": "code",
   "execution_count": null,
   "metadata": {},
   "outputs": [],
   "source": [
    "quadratic_formula(1, 5, 6)"
   ]
  },
  {
   "cell_type": "markdown",
   "metadata": {},
   "source": [
    "Code a function that returns the nth term of the fibonacci sequence"
   ]
  },
  {
   "cell_type": "code",
   "execution_count": null,
   "metadata": {},
   "outputs": [],
   "source": [
    "def fibonacci(n):\n",
    "    f0 = 0\n",
    "    f1 = 1\n",
    "    \n",
    "    if n < 2:\n",
    "        return n\n",
    "    else:\n",
    "        for i in range(n):\n",
    "            f = f0 + f1\n",
    "            f1 = f0\n",
    "            f0 = f\n",
    "        return f\n",
    "\n",
    "fibonacci(10)"
   ]
  },
  {
   "cell_type": "markdown",
   "metadata": {},
   "source": [
    "#### Recursion"
   ]
  },
  {
   "cell_type": "markdown",
   "metadata": {},
   "source": [
    "Recursion is a function that calls itself. Code the fibonacci sequence using recursion."
   ]
  },
  {
   "cell_type": "code",
   "execution_count": null,
   "metadata": {},
   "outputs": [],
   "source": [
    "def bad_fibonacci(n):\n",
    "    if n <= 1:\n",
    "        return n\n",
    "    else:\n",
    "        return bad_fibonacci(n - 1) + bad_fibonacci(n - 2)\n",
    "\n",
    "bad_fibonacci(10)\n",
    "\n",
    "# This is a TERRIBLE use of recursion! NEVER DO THIS!!!"
   ]
  },
  {
   "cell_type": "code",
   "execution_count": null,
   "metadata": {},
   "outputs": [],
   "source": [
    "# I can make this even worse\n",
    "fibonacci = lambda n: n if n <= 1 else bad_fibonacci(n - 1) + bad_fibonacci(n - 2)\n",
    "bad_fibonacci(10)\n",
    "# Do this only if you want to torture the next person that takes over this code"
   ]
  },
  {
   "cell_type": "markdown",
   "metadata": {},
   "source": [
    "#### Comprehensive Example"
   ]
  },
  {
   "cell_type": "markdown",
   "metadata": {},
   "source": [
    "Write a function that calculates the payment amount for an amortizing loan"
   ]
  },
  {
   "cell_type": "code",
   "execution_count": null,
   "metadata": {},
   "outputs": [],
   "source": [
    "def calculate_loan_payment(loan_balance, annual_rate, term):\n",
    "\n",
    "    \n",
    "    \n",
    "\n",
    "calculate_loan_payment(300000, .04, 30)"
   ]
  },
  {
   "cell_type": "markdown",
   "metadata": {},
   "source": [
    "Modify the function to allow for various payment frequency options"
   ]
  },
  {
   "cell_type": "code",
   "execution_count": null,
   "metadata": {},
   "outputs": [],
   "source": [
    "def calculate_loan_payment(loan_balance, annual_rate, term, frequency = 'monthly'):\n",
    "\n",
    "    \n",
    "    \n",
    "\n",
    "calculate_loan_payment(300000, .04, 30, frequency = 'semi-annual')"
   ]
  },
  {
   "cell_type": "markdown",
   "metadata": {},
   "source": [
    "Modify the function that outputs the payment amount for a list of rate options"
   ]
  },
  {
   "cell_type": "code",
   "execution_count": null,
   "metadata": {},
   "outputs": [],
   "source": [
    "def calculate_loan_payment(loan_balance, annual_rate, term, frequency = 'monthly'):\n",
    "\n",
    "    \n",
    "    \n",
    "    \n",
    "\n",
    "# This is a much better use of recursion\n",
    "calculate_loan_payment(300000, [.03, .04, .05], 30) "
   ]
  },
  {
   "cell_type": "markdown",
   "metadata": {},
   "source": [
    "Modify the function to allow for a list of rate / term combonations"
   ]
  },
  {
   "cell_type": "code",
   "execution_count": null,
   "metadata": {},
   "outputs": [],
   "source": [
    "# Questions to consider before coding:\n",
    "# how would you design this?\n",
    "# what should inputs to this function look like?\n",
    "# what should outputs of this function look like?\n",
    "# how to do this efficiently\n",
    "# am I using recursion appropriately here?"
   ]
  },
  {
   "cell_type": "code",
   "execution_count": null,
   "metadata": {},
   "outputs": [],
   "source": []
  }
 ],
 "metadata": {
  "kernelspec": {
   "display_name": "Python 3",
   "language": "python",
   "name": "python3"
  },
  "language_info": {
   "codemirror_mode": {
    "name": "ipython",
    "version": 3
   },
   "file_extension": ".py",
   "mimetype": "text/x-python",
   "name": "python",
   "nbconvert_exporter": "python",
   "pygments_lexer": "ipython3",
   "version": "3.7.3"
  }
 },
 "nbformat": 4,
 "nbformat_minor": 2
}
